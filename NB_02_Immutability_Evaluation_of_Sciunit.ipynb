{
 "cells": [
  {
   "cell_type": "markdown",
   "id": "phantom-execution",
   "metadata": {},
   "source": [
    "# Immutability Evaluation of Sciunit"
   ]
  },
  {
   "cell_type": "markdown",
   "id": "outer-interview",
   "metadata": {},
   "source": [
    "## Set New Resource ID"
   ]
  },
  {
   "cell_type": "markdown",
   "id": "detected-conspiracy",
   "metadata": {},
   "source": [
    "<div class=\"alert alert-block alert-danger\">\n",
    "<b> Attention </b> If you didn't copy and paste newly created HS resource ID, please copy and paste it from the first notebook </div>"
   ]
  },
  {
   "cell_type": "code",
   "execution_count": null,
   "id": "canadian-palestine",
   "metadata": {},
   "outputs": [],
   "source": [
    "resource_id = \"4556e522982a4f38830632aaad27f98d\""
   ]
  },
  {
   "cell_type": "markdown",
   "id": "piano-venue",
   "metadata": {},
   "source": [
    "## Check Sciunit library"
   ]
  },
  {
   "cell_type": "markdown",
   "id": "brave-whole",
   "metadata": {},
   "source": [
    "* Sciunit versiono must be `sciunit2 0.4.post58.dev224550607`"
   ]
  },
  {
   "cell_type": "code",
   "execution_count": null,
   "id": "pointed-study",
   "metadata": {},
   "outputs": [],
   "source": [
    "!/srv/conda/envs/notebook/bin/sciunit --version"
   ]
  },
  {
   "cell_type": "markdown",
   "id": "divided-television",
   "metadata": {},
   "source": [
    "## Open and Show the Sciunit Container Created in CyberGIS-Jupyter for water"
   ]
  },
  {
   "cell_type": "markdown",
   "id": "affecting-revision",
   "metadata": {},
   "source": [
    "### Download Sciunit Container from HydroShare"
   ]
  },
  {
   "cell_type": "code",
   "execution_count": null,
   "id": "aboriginal-marking",
   "metadata": {},
   "outputs": [],
   "source": [
    "from hsclient import HydroShare\n",
    "\n",
    "hs = HydroShare()\n",
    "hs.sign_in()"
   ]
  },
  {
   "cell_type": "code",
   "execution_count": null,
   "id": "conscious-music",
   "metadata": {},
   "outputs": [],
   "source": [
    "# Get the resource you want to download using its identifier\n",
    "res = hs.resource(resource_id)\n",
    "\n",
    "# Download the resource as a zipped file. Pass in a file path as a string if you\n",
    "# want to download to a particular location.\n",
    "res.download()"
   ]
  },
  {
   "cell_type": "code",
   "execution_count": null,
   "id": "strange-absolute",
   "metadata": {},
   "outputs": [],
   "source": [
    "# If there is an error to unzip Sciunit Container, please download HS resource again in the previous step\n",
    "!unzip {resource_id}\".zip\""
   ]
  },
  {
   "cell_type": "code",
   "execution_count": null,
   "id": "demanding-cabin",
   "metadata": {},
   "outputs": [],
   "source": [
    "import shutil, os\n",
    "sciunit_container = os.path.join(os.getcwd(), resource_id, \"data\", \"contents\", \"sciunit_container.zip\")\n",
    "sciunit_container"
   ]
  },
  {
   "cell_type": "code",
   "execution_count": null,
   "id": "great-array",
   "metadata": {},
   "outputs": [],
   "source": [
    "shutil.move(sciunit_container, os.getcwd())"
   ]
  },
  {
   "cell_type": "markdown",
   "id": "presidential-alignment",
   "metadata": {},
   "source": [
    "## Reproducibility of Sciunit Container"
   ]
  },
  {
   "cell_type": "code",
   "execution_count": null,
   "id": "solved-ballot",
   "metadata": {},
   "outputs": [],
   "source": [
    "!/srv/conda/envs/notebook/bin/sciunit open sciunit_container.zip"
   ]
  },
  {
   "cell_type": "code",
   "execution_count": null,
   "id": "taken-navigator",
   "metadata": {},
   "outputs": [],
   "source": [
    "os.environ['TZ'] = 'UTC'\n",
    "!/srv/conda/envs/notebook/bin/sciunit list"
   ]
  },
  {
   "cell_type": "code",
   "execution_count": null,
   "id": "romance-completion",
   "metadata": {},
   "outputs": [],
   "source": [
    "!/srv/conda/envs/notebook/bin/sciunit show e1"
   ]
  },
  {
   "cell_type": "markdown",
   "id": "realistic-willow",
   "metadata": {},
   "source": [
    "### Repeat Sciunit Container to Evaluate Reproducibility"
   ]
  },
  {
   "cell_type": "code",
   "execution_count": null,
   "id": "toxic-advisory",
   "metadata": {
    "scrolled": true
   },
   "outputs": [],
   "source": [
    "!/srv/conda/envs/notebook/bin/sciunit repeat e1"
   ]
  },
  {
   "cell_type": "markdown",
   "id": "entertaining-carnival",
   "metadata": {},
   "source": [
    "### Navigate to the Reproduced SUMMA Output"
   ]
  },
  {
   "cell_type": "code",
   "execution_count": null,
   "id": "functional-basketball",
   "metadata": {},
   "outputs": [],
   "source": [
    "# You don't need to change the HydroShare resource ID here.\n",
    "original_resource_id = \"d2a469fe56714715bad849a5dfc380bc\"\n",
    "reproduced_analysis = \"/home/jovyan/sciunit/sciunit_container/cde-package/cde-root/home/jovyan/work/Downloads/\"+original_resource_id+\"/\"+original_resource_id+\"/data/contents/\"\n",
    "!ls {reproduced_analysis}"
   ]
  },
  {
   "cell_type": "markdown",
   "id": "marked-panama",
   "metadata": {},
   "source": [
    "### Visualize Spatial Attribute (Aspect, Slope, Flow Direction, and Flow Accumulation) in Coweeta sub18"
   ]
  },
  {
   "cell_type": "code",
   "execution_count": null,
   "id": "confused-bowling",
   "metadata": {},
   "outputs": [],
   "source": [
    "from IPython.display import Image\n",
    "Image(filename=reproduced_analysis+'/aspect.png') "
   ]
  },
  {
   "cell_type": "code",
   "execution_count": null,
   "id": "recreational-pillow",
   "metadata": {},
   "outputs": [],
   "source": [
    "Image(filename=reproduced_analysis+'/drain.png') "
   ]
  },
  {
   "cell_type": "code",
   "execution_count": null,
   "id": "industrial-angola",
   "metadata": {},
   "outputs": [],
   "source": [
    "Image(filename=reproduced_analysis+'/slope.png') "
   ]
  },
  {
   "cell_type": "code",
   "execution_count": null,
   "id": "controlled-dining",
   "metadata": {},
   "outputs": [],
   "source": [
    "Image(filename=reproduced_analysis+'/uaa.png') "
   ]
  },
  {
   "cell_type": "markdown",
   "id": "recognized-monaco",
   "metadata": {},
   "source": [
    "### Plot Model Output: Comparison between Simulation and Observation Streamflow"
   ]
  },
  {
   "cell_type": "code",
   "execution_count": null,
   "id": "greek-puzzle",
   "metadata": {},
   "outputs": [],
   "source": [
    "Image(filename=reproduced_analysis+'/figure.png') "
   ]
  },
  {
   "cell_type": "markdown",
   "id": "infectious-medicare",
   "metadata": {},
   "source": [
    "### Show the model performance results"
   ]
  },
  {
   "cell_type": "code",
   "execution_count": null,
   "id": "previous-circle",
   "metadata": {},
   "outputs": [],
   "source": [
    "with open(os.path.join(reproduced_analysis, \"performance.txt\"), 'r') as text:\n",
    "    textfile = text.read()\n",
    "    print(textfile)"
   ]
  },
  {
   "cell_type": "code",
   "execution_count": null,
   "id": "revolutionary-asbestos",
   "metadata": {},
   "outputs": [],
   "source": []
  }
 ],
 "metadata": {
  "kernelspec": {
   "display_name": "Python 3-latest-stable",
   "language": "python",
   "name": "python3"
  },
  "language_info": {
   "codemirror_mode": {
    "name": "ipython",
    "version": 3
   },
   "file_extension": ".py",
   "mimetype": "text/x-python",
   "name": "python",
   "nbconvert_exporter": "python",
   "pygments_lexer": "ipython3",
   "version": "3.9.7"
  }
 },
 "nbformat": 4,
 "nbformat_minor": 5
}
